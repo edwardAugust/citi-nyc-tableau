{
 "cells": [
  {
   "cell_type": "code",
   "execution_count": 1,
   "metadata": {},
   "outputs": [],
   "source": [
    "# Import the dependencies\n",
    "import numpy as np\n",
    "from pathlib import Path\n",
    "import pandas as pd\n",
    "from geopy.distance import geodesic as GD\n"
   ]
  },
  {
   "attachments": {},
   "cell_type": "markdown",
   "metadata": {},
   "source": [
    "## Create 2019 dataframe\n",
    "First, read in the file\\\n",
    "Second, collect top 20 start station names\\\n",
    "Last, create a filtered dataframe"
   ]
  },
  {
   "cell_type": "code",
   "execution_count": 2,
   "metadata": {},
   "outputs": [],
   "source": [
    "# read in csv\n",
    "citi2019Df = pd.read_csv(\n",
    "    Path(\"201902-citibike-tripdata.csv\")\n",
    ")\n",
    "stationFrequency = citi2019Df['start station name'].value_counts()\n",
    "#stationFrequency[:20]"
   ]
  },
  {
   "cell_type": "code",
   "execution_count": 3,
   "metadata": {},
   "outputs": [
    {
     "data": {
      "text/plain": [
       "Pershing Square North    8084\n",
       "W 21 St & 6 Ave          6303\n",
       "8 Ave & W 31 St          5969\n",
       "E 17 St & Broadway       5903\n",
       "Broadway & E 22 St       5788\n",
       "Broadway & E 14 St       5713\n",
       "8 Ave & W 33 St          5035\n",
       "W 41 St & 8 Ave          5033\n",
       "Lafayette St & E 8 St    4836\n",
       "W 16 St & 8 Ave          4809\n",
       "W 20 St & 11 Ave         4733\n",
       "E 47 St & Park Ave       4663\n",
       "W 38 St & 8 Ave          4644\n",
       "Broadway & W 60 St       4547\n",
       "W 31 St & 7 Ave          4473\n",
       "Broadway & W 25 St       4425\n",
       "W 33 St & 7 Ave          4402\n",
       "Broadway & W 41 St       4333\n",
       "1 Ave & E 16 St          4262\n",
       "6 Ave & W 33 St          4257\n",
       "Name: start station name, dtype: int64"
      ]
     },
     "execution_count": 3,
     "metadata": {},
     "output_type": "execute_result"
    }
   ],
   "source": [
    "stationFrequency[:20]"
   ]
  },
  {
   "cell_type": "code",
   "execution_count": 4,
   "metadata": {},
   "outputs": [],
   "source": [
    "# stationFrequency[:20]\n",
    "topTwenty2019Ls=['Pershing Square North', 'W 21 St & 6 Ave', '8 Ave & W 31 St', 'E 17 St & Broadway', 'Broadway & E 22 St', 'Broadway & E 14 St', '8 Ave & W 33 St', 'W 41 St & 8 Ave', 'Lafayette St & E 8 St', 'W 16 St & 8 Ave', 'W 20 St & 11 Ave', 'E 47 St & Park Ave', 'W 38 St & 8 Ave', 'Broadway & W 60 St', 'W 31 St & 7 Ave', 'Broadway & W 25 St', 'W 33 St & 7 Ave', 'Broadway & W 41 St', '1 Ave & E 16 St', '6 Ave & W 33 St']\n"
   ]
  },
  {
   "cell_type": "code",
   "execution_count": 6,
   "metadata": {},
   "outputs": [],
   "source": [
    "# filter the databse by the start staion name using the list of the top 20 stops\n",
    "filteredCiti2019Df = citi2019Df[citi2019Df['start station name'].str.contains('|'.join(topTwenty2019Ls), na = False)]\n"
   ]
  },
  {
   "attachments": {},
   "cell_type": "markdown",
   "metadata": {},
   "source": [
    "### Create 3 dataframes\n",
    "First, station coordinate dataframe\\\n",
    "Second, station time dataframe\\\n",
    "Last, station demographic dataframe"
   ]
  },
  {
   "cell_type": "code",
   "execution_count": 7,
   "metadata": {},
   "outputs": [
    {
     "data": {
      "text/html": [
       "<div>\n",
       "<style scoped>\n",
       "    .dataframe tbody tr th:only-of-type {\n",
       "        vertical-align: middle;\n",
       "    }\n",
       "\n",
       "    .dataframe tbody tr th {\n",
       "        vertical-align: top;\n",
       "    }\n",
       "\n",
       "    .dataframe thead th {\n",
       "        text-align: right;\n",
       "    }\n",
       "</style>\n",
       "<table border=\"1\" class=\"dataframe\">\n",
       "  <thead>\n",
       "    <tr style=\"text-align: right;\">\n",
       "      <th></th>\n",
       "      <th>tripduration</th>\n",
       "      <th>start station id</th>\n",
       "      <th>start station latitude</th>\n",
       "      <th>start station longitude</th>\n",
       "      <th>end station id</th>\n",
       "      <th>end station latitude</th>\n",
       "      <th>end station longitude</th>\n",
       "    </tr>\n",
       "  </thead>\n",
       "  <tbody>\n",
       "    <tr>\n",
       "      <th>8</th>\n",
       "      <td>541</td>\n",
       "      <td>293.0</td>\n",
       "      <td>40.730207</td>\n",
       "      <td>-73.991026</td>\n",
       "      <td>383.0</td>\n",
       "      <td>40.735238</td>\n",
       "      <td>-74.000271</td>\n",
       "    </tr>\n",
       "    <tr>\n",
       "      <th>16</th>\n",
       "      <td>469</td>\n",
       "      <td>490.0</td>\n",
       "      <td>40.751551</td>\n",
       "      <td>-73.993934</td>\n",
       "      <td>508.0</td>\n",
       "      <td>40.763414</td>\n",
       "      <td>-73.996674</td>\n",
       "    </tr>\n",
       "    <tr>\n",
       "      <th>24</th>\n",
       "      <td>848</td>\n",
       "      <td>3660.0</td>\n",
       "      <td>40.741022</td>\n",
       "      <td>-74.001385</td>\n",
       "      <td>487.0</td>\n",
       "      <td>40.733143</td>\n",
       "      <td>-73.975739</td>\n",
       "    </tr>\n",
       "    <tr>\n",
       "      <th>43</th>\n",
       "      <td>1203</td>\n",
       "      <td>3255.0</td>\n",
       "      <td>40.750585</td>\n",
       "      <td>-73.994685</td>\n",
       "      <td>442.0</td>\n",
       "      <td>40.746647</td>\n",
       "      <td>-73.993915</td>\n",
       "    </tr>\n",
       "    <tr>\n",
       "      <th>71</th>\n",
       "      <td>195</td>\n",
       "      <td>285.0</td>\n",
       "      <td>40.734546</td>\n",
       "      <td>-73.990741</td>\n",
       "      <td>223.0</td>\n",
       "      <td>40.737815</td>\n",
       "      <td>-73.999947</td>\n",
       "    </tr>\n",
       "  </tbody>\n",
       "</table>\n",
       "</div>"
      ],
      "text/plain": [
       "    tripduration  start station id  start station latitude  \\\n",
       "8            541             293.0               40.730207   \n",
       "16           469             490.0               40.751551   \n",
       "24           848            3660.0               40.741022   \n",
       "43          1203            3255.0               40.750585   \n",
       "71           195             285.0               40.734546   \n",
       "\n",
       "    start station longitude  end station id  end station latitude  \\\n",
       "8                -73.991026           383.0             40.735238   \n",
       "16               -73.993934           508.0             40.763414   \n",
       "24               -74.001385           487.0             40.733143   \n",
       "43               -73.994685           442.0             40.746647   \n",
       "71               -73.990741           223.0             40.737815   \n",
       "\n",
       "    end station longitude  \n",
       "8              -74.000271  \n",
       "16             -73.996674  \n",
       "24             -73.975739  \n",
       "43             -73.993915  \n",
       "71             -73.999947  "
      ]
     },
     "execution_count": 7,
     "metadata": {},
     "output_type": "execute_result"
    }
   ],
   "source": [
    "# these series will give us info on lat/long\n",
    "# conmtains statin ids\n",
    "\n",
    "series0 = filteredCiti2019Df['tripduration']\n",
    "series3 = filteredCiti2019Df['start station id']\n",
    "series5=filteredCiti2019Df['start station latitude']\n",
    "series6=filteredCiti2019Df['start station longitude']\n",
    "series7=filteredCiti2019Df['end station id']\n",
    "series9=filteredCiti2019Df['end station latitude']\n",
    "series10=filteredCiti2019Df['end station longitude']\n",
    "\n",
    "# primary DF\n",
    "# columns needed: [0,3,5,6,7,9,10,]\n",
    "# 356 is the start point\n",
    "# 7910 is the end point\n",
    "stationCoordinate2019Df = pd.concat([series0, series3, series5, series6,series7,series9, series10], \n",
    "    axis = 1)\n",
    "stationCoordinate2019Df.head()"
   ]
  },
  {
   "cell_type": "code",
   "execution_count": 9,
   "metadata": {},
   "outputs": [
    {
     "data": {
      "text/html": [
       "<div>\n",
       "<style scoped>\n",
       "    .dataframe tbody tr th:only-of-type {\n",
       "        vertical-align: middle;\n",
       "    }\n",
       "\n",
       "    .dataframe tbody tr th {\n",
       "        vertical-align: top;\n",
       "    }\n",
       "\n",
       "    .dataframe thead th {\n",
       "        text-align: right;\n",
       "    }\n",
       "</style>\n",
       "<table border=\"1\" class=\"dataframe\">\n",
       "  <thead>\n",
       "    <tr style=\"text-align: right;\">\n",
       "      <th></th>\n",
       "      <th>tripduration</th>\n",
       "      <th>starttime</th>\n",
       "      <th>stoptime</th>\n",
       "      <th>start station name</th>\n",
       "      <th>end station name</th>\n",
       "    </tr>\n",
       "  </thead>\n",
       "  <tbody>\n",
       "    <tr>\n",
       "      <th>8</th>\n",
       "      <td>541</td>\n",
       "      <td>2019-02-01 00:02:28.0750</td>\n",
       "      <td>2019-02-01 00:11:29.5490</td>\n",
       "      <td>Lafayette St &amp; E 8 St</td>\n",
       "      <td>Greenwich Ave &amp; Charles St</td>\n",
       "    </tr>\n",
       "    <tr>\n",
       "      <th>16</th>\n",
       "      <td>469</td>\n",
       "      <td>2019-02-01 00:05:12.0320</td>\n",
       "      <td>2019-02-01 00:13:01.6280</td>\n",
       "      <td>8 Ave &amp; W 33 St</td>\n",
       "      <td>W 46 St &amp; 11 Ave</td>\n",
       "    </tr>\n",
       "    <tr>\n",
       "      <th>24</th>\n",
       "      <td>848</td>\n",
       "      <td>2019-02-01 00:06:35.5860</td>\n",
       "      <td>2019-02-01 00:20:44.3030</td>\n",
       "      <td>W 16 St &amp; 8 Ave</td>\n",
       "      <td>E 20 St &amp; FDR Drive</td>\n",
       "    </tr>\n",
       "    <tr>\n",
       "      <th>43</th>\n",
       "      <td>1203</td>\n",
       "      <td>2019-02-01 00:12:57.4990</td>\n",
       "      <td>2019-02-01 00:33:01.4500</td>\n",
       "      <td>8 Ave &amp; W 31 St</td>\n",
       "      <td>W 27 St &amp; 7 Ave</td>\n",
       "    </tr>\n",
       "    <tr>\n",
       "      <th>71</th>\n",
       "      <td>195</td>\n",
       "      <td>2019-02-01 00:26:36.1490</td>\n",
       "      <td>2019-02-01 00:29:51.6580</td>\n",
       "      <td>Broadway &amp; E 14 St</td>\n",
       "      <td>W 13 St &amp; 7 Ave</td>\n",
       "    </tr>\n",
       "  </tbody>\n",
       "</table>\n",
       "</div>"
      ],
      "text/plain": [
       "    tripduration                 starttime                  stoptime  \\\n",
       "8            541  2019-02-01 00:02:28.0750  2019-02-01 00:11:29.5490   \n",
       "16           469  2019-02-01 00:05:12.0320  2019-02-01 00:13:01.6280   \n",
       "24           848  2019-02-01 00:06:35.5860  2019-02-01 00:20:44.3030   \n",
       "43          1203  2019-02-01 00:12:57.4990  2019-02-01 00:33:01.4500   \n",
       "71           195  2019-02-01 00:26:36.1490  2019-02-01 00:29:51.6580   \n",
       "\n",
       "       start station name            end station name  \n",
       "8   Lafayette St & E 8 St  Greenwich Ave & Charles St  \n",
       "16        8 Ave & W 33 St            W 46 St & 11 Ave  \n",
       "24        W 16 St & 8 Ave         E 20 St & FDR Drive  \n",
       "43        8 Ave & W 31 St             W 27 St & 7 Ave  \n",
       "71     Broadway & E 14 St             W 13 St & 7 Ave  "
      ]
     },
     "execution_count": 9,
     "metadata": {},
     "output_type": "execute_result"
    }
   ],
   "source": [
    "# second DF for obect items sucha as start and end times\n",
    "# these can be read into tableau easily (i hope)\n",
    "# columns needed: [0,1,2,4,8]\n",
    "series0 = filteredCiti2019Df['tripduration']\n",
    "series1 = filteredCiti2019Df['starttime']\n",
    "series2=filteredCiti2019Df['stoptime']\n",
    "series4=filteredCiti2019Df['start station name']\n",
    "series8=filteredCiti2019Df['end station name']\n",
    "\n",
    "# use pandas concat() to create secondary df\n",
    "stationTime2019Df = pd.concat([series0, series1, series2, series4,series8],\n",
    "    axis = 1)\n",
    "\n",
    "# does the baby have all 10 fingers and toes?\n",
    "stationTime2019Df.head()"
   ]
  },
  {
   "cell_type": "code",
   "execution_count": 10,
   "metadata": {},
   "outputs": [
    {
     "data": {
      "text/html": [
       "<div>\n",
       "<style scoped>\n",
       "    .dataframe tbody tr th:only-of-type {\n",
       "        vertical-align: middle;\n",
       "    }\n",
       "\n",
       "    .dataframe tbody tr th {\n",
       "        vertical-align: top;\n",
       "    }\n",
       "\n",
       "    .dataframe thead th {\n",
       "        text-align: right;\n",
       "    }\n",
       "</style>\n",
       "<table border=\"1\" class=\"dataframe\">\n",
       "  <thead>\n",
       "    <tr style=\"text-align: right;\">\n",
       "      <th></th>\n",
       "      <th>tripduration</th>\n",
       "      <th>usertype</th>\n",
       "      <th>birth year</th>\n",
       "      <th>gender</th>\n",
       "    </tr>\n",
       "  </thead>\n",
       "  <tbody>\n",
       "    <tr>\n",
       "      <th>8</th>\n",
       "      <td>541</td>\n",
       "      <td>Subscriber</td>\n",
       "      <td>1981</td>\n",
       "      <td>0</td>\n",
       "    </tr>\n",
       "    <tr>\n",
       "      <th>16</th>\n",
       "      <td>469</td>\n",
       "      <td>Subscriber</td>\n",
       "      <td>1968</td>\n",
       "      <td>1</td>\n",
       "    </tr>\n",
       "    <tr>\n",
       "      <th>24</th>\n",
       "      <td>848</td>\n",
       "      <td>Subscriber</td>\n",
       "      <td>1997</td>\n",
       "      <td>1</td>\n",
       "    </tr>\n",
       "    <tr>\n",
       "      <th>43</th>\n",
       "      <td>1203</td>\n",
       "      <td>Customer</td>\n",
       "      <td>1969</td>\n",
       "      <td>0</td>\n",
       "    </tr>\n",
       "    <tr>\n",
       "      <th>71</th>\n",
       "      <td>195</td>\n",
       "      <td>Subscriber</td>\n",
       "      <td>1992</td>\n",
       "      <td>1</td>\n",
       "    </tr>\n",
       "  </tbody>\n",
       "</table>\n",
       "</div>"
      ],
      "text/plain": [
       "    tripduration    usertype  birth year  gender\n",
       "8            541  Subscriber        1981       0\n",
       "16           469  Subscriber        1968       1\n",
       "24           848  Subscriber        1997       1\n",
       "43          1203    Customer        1969       0\n",
       "71           195  Subscriber        1992       1"
      ]
     },
     "execution_count": 10,
     "metadata": {},
     "output_type": "execute_result"
    }
   ],
   "source": [
    "# third DF [0,12,13,14]\n",
    "# maybe can be used for demographic analysis\n",
    "series0 = filteredCiti2019Df['tripduration']\n",
    "series12 = filteredCiti2019Df['usertype']\n",
    "series13=filteredCiti2019Df['birth year']\n",
    "series14=filteredCiti2019Df['gender']\n",
    "\n",
    "# use pandas concat() to create secondary df\n",
    "demographics2019Df = pd.concat([series0, series12, series13, series14],\n",
    "    axis = 1)\n",
    "\n",
    "# does the baby have all 10 fingers and toes?\n",
    "demographics2019Df.head()"
   ]
  },
  {
   "cell_type": "markdown",
   "metadata": {},
   "source": [
    "## Create 2020 dataframe"
   ]
  },
  {
   "cell_type": "code",
   "execution_count": 2,
   "metadata": {},
   "outputs": [],
   "source": [
    "# read in csv\n",
    "citi2020Df = pd.read_csv(\n",
    "    Path(\"202004-citibike-tripdata.csv\")\n",
    ")"
   ]
  },
  {
   "cell_type": "code",
   "execution_count": 3,
   "metadata": {},
   "outputs": [],
   "source": [
    "stationFrequency = citi2020Df['start station name'].value_counts()"
   ]
  },
  {
   "cell_type": "code",
   "execution_count": 4,
   "metadata": {},
   "outputs": [
    {
     "data": {
      "text/plain": [
       "20"
      ]
     },
     "execution_count": 4,
     "metadata": {},
     "output_type": "execute_result"
    }
   ],
   "source": [
    "topTwenty2020Ls = [\n",
    "'1 Ave & E 68 St',\n",
    "'West St & Chambers St',\n",
    "'12 Ave & W 40 St',\n",
    "'Pier 40 - Hudson River Park',\n",
    "'Broadway & W 60 St',\n",
    "'S 5 Pl & S 5 St',\n",
    "'E 33 St & 1 Ave',\n",
    "'Little West St & 1 Pl',\n",
    "'Christopher St & Greenwich St',\n",
    "'Central Park S & 6 Ave', \n",
    "'E 17 St & Broadway', \n",
    "'5 Ave & E 73 St',\n",
    "'E 13 St & Avenue A',\n",
    "'Clinton St & Grand St',\n",
    "'1 Ave & E 16 St',\n",
    "'W 21 St & 6 Ave',\n",
    "'Broadway & E 22 St',\n",
    "'Carmine St & 6 Ave',\n",
    "'West Drive & Prospect Park West',\n",
    "'Broadway & W 25 St']\n",
    "#stationFrequency[:20]\n",
    "len(topTwenty2020Ls)\n"
   ]
  },
  {
   "cell_type": "code",
   "execution_count": 5,
   "metadata": {},
   "outputs": [],
   "source": [
    "# filter the databse by the start staion name using the list of the top 20 stops\n",
    "filteredCiti2020Df = citi2020Df[citi2020Df['start station name'].str.contains('|'.join(topTwenty2020Ls))]\n"
   ]
  },
  {
   "cell_type": "code",
   "execution_count": 6,
   "metadata": {},
   "outputs": [
    {
     "data": {
      "text/plain": [
       "61297"
      ]
     },
     "execution_count": 6,
     "metadata": {},
     "output_type": "execute_result"
    }
   ],
   "source": [
    "len(filteredCiti2020Df)\n"
   ]
  },
  {
   "attachments": {},
   "cell_type": "markdown",
   "metadata": {},
   "source": [
    "### Create 3 dataframes"
   ]
  },
  {
   "cell_type": "code",
   "execution_count": 7,
   "metadata": {},
   "outputs": [],
   "source": [
    "\n",
    "series0 = filteredCiti2020Df['tripduration']\n",
    "series3 = filteredCiti2020Df['start station id']\n",
    "series5=filteredCiti2020Df['start station latitude']\n",
    "series6=filteredCiti2020Df['start station longitude']\n",
    "series7=filteredCiti2020Df['end station id']\n",
    "series9=filteredCiti2020Df['end station latitude']\n",
    "series10=filteredCiti2020Df['end station longitude']"
   ]
  },
  {
   "cell_type": "code",
   "execution_count": 8,
   "metadata": {},
   "outputs": [],
   "source": [
    "# primary DF\n",
    "# columns needed: [0,3,5,6,7,9,10,]\n",
    "# 356 is the start point\n",
    "# 7910 is the end point\n",
    "stationCoordinate2020Df = pd.concat([series0, series3, series5, series6,series7,series9, series10], \n",
    "    axis = 1)"
   ]
  },
  {
   "cell_type": "code",
   "execution_count": 9,
   "metadata": {},
   "outputs": [
    {
     "data": {
      "text/html": [
       "<div>\n",
       "<style scoped>\n",
       "    .dataframe tbody tr th:only-of-type {\n",
       "        vertical-align: middle;\n",
       "    }\n",
       "\n",
       "    .dataframe tbody tr th {\n",
       "        vertical-align: top;\n",
       "    }\n",
       "\n",
       "    .dataframe thead th {\n",
       "        text-align: right;\n",
       "    }\n",
       "</style>\n",
       "<table border=\"1\" class=\"dataframe\">\n",
       "  <thead>\n",
       "    <tr style=\"text-align: right;\">\n",
       "      <th></th>\n",
       "      <th>tripduration</th>\n",
       "      <th>start station id</th>\n",
       "      <th>start station latitude</th>\n",
       "      <th>start station longitude</th>\n",
       "      <th>end station id</th>\n",
       "      <th>end station latitude</th>\n",
       "      <th>end station longitude</th>\n",
       "    </tr>\n",
       "  </thead>\n",
       "  <tbody>\n",
       "    <tr>\n",
       "      <th>12</th>\n",
       "      <td>1346</td>\n",
       "      <td>504</td>\n",
       "      <td>40.732219</td>\n",
       "      <td>-73.981656</td>\n",
       "      <td>465</td>\n",
       "      <td>40.755136</td>\n",
       "      <td>-73.986580</td>\n",
       "    </tr>\n",
       "    <tr>\n",
       "      <th>16</th>\n",
       "      <td>1612</td>\n",
       "      <td>426</td>\n",
       "      <td>40.717548</td>\n",
       "      <td>-74.013221</td>\n",
       "      <td>3077</td>\n",
       "      <td>40.708771</td>\n",
       "      <td>-73.950953</td>\n",
       "    </tr>\n",
       "    <tr>\n",
       "      <th>77</th>\n",
       "      <td>683</td>\n",
       "      <td>426</td>\n",
       "      <td>40.717548</td>\n",
       "      <td>-74.013221</td>\n",
       "      <td>3746</td>\n",
       "      <td>40.724308</td>\n",
       "      <td>-74.004730</td>\n",
       "    </tr>\n",
       "    <tr>\n",
       "      <th>89</th>\n",
       "      <td>985</td>\n",
       "      <td>514</td>\n",
       "      <td>40.760875</td>\n",
       "      <td>-74.002777</td>\n",
       "      <td>507</td>\n",
       "      <td>40.739126</td>\n",
       "      <td>-73.979738</td>\n",
       "    </tr>\n",
       "    <tr>\n",
       "      <th>95</th>\n",
       "      <td>389</td>\n",
       "      <td>3711</td>\n",
       "      <td>40.729667</td>\n",
       "      <td>-73.980680</td>\n",
       "      <td>411</td>\n",
       "      <td>40.722281</td>\n",
       "      <td>-73.976687</td>\n",
       "    </tr>\n",
       "  </tbody>\n",
       "</table>\n",
       "</div>"
      ],
      "text/plain": [
       "    tripduration  start station id  start station latitude  \\\n",
       "12          1346               504               40.732219   \n",
       "16          1612               426               40.717548   \n",
       "77           683               426               40.717548   \n",
       "89           985               514               40.760875   \n",
       "95           389              3711               40.729667   \n",
       "\n",
       "    start station longitude  end station id  end station latitude  \\\n",
       "12               -73.981656             465             40.755136   \n",
       "16               -74.013221            3077             40.708771   \n",
       "77               -74.013221            3746             40.724308   \n",
       "89               -74.002777             507             40.739126   \n",
       "95               -73.980680             411             40.722281   \n",
       "\n",
       "    end station longitude  \n",
       "12             -73.986580  \n",
       "16             -73.950953  \n",
       "77             -74.004730  \n",
       "89             -73.979738  \n",
       "95             -73.976687  "
      ]
     },
     "execution_count": 9,
     "metadata": {},
     "output_type": "execute_result"
    }
   ],
   "source": [
    "stationCoordinate2020Df.head()"
   ]
  },
  {
   "cell_type": "code",
   "execution_count": 11,
   "metadata": {},
   "outputs": [
    {
     "data": {
      "text/html": [
       "<div>\n",
       "<style scoped>\n",
       "    .dataframe tbody tr th:only-of-type {\n",
       "        vertical-align: middle;\n",
       "    }\n",
       "\n",
       "    .dataframe tbody tr th {\n",
       "        vertical-align: top;\n",
       "    }\n",
       "\n",
       "    .dataframe thead th {\n",
       "        text-align: right;\n",
       "    }\n",
       "</style>\n",
       "<table border=\"1\" class=\"dataframe\">\n",
       "  <thead>\n",
       "    <tr style=\"text-align: right;\">\n",
       "      <th></th>\n",
       "      <th>tripduration</th>\n",
       "      <th>starttime</th>\n",
       "      <th>stoptime</th>\n",
       "      <th>start station name</th>\n",
       "      <th>end station name</th>\n",
       "    </tr>\n",
       "  </thead>\n",
       "  <tbody>\n",
       "    <tr>\n",
       "      <th>0</th>\n",
       "      <td>534</td>\n",
       "      <td>2020-04-01 00:00:15.2800</td>\n",
       "      <td>2020-04-01 00:09:09.8730</td>\n",
       "      <td>E 2 St &amp; Avenue A</td>\n",
       "      <td>E 23 St &amp; 1 Ave</td>\n",
       "    </tr>\n",
       "    <tr>\n",
       "      <th>1</th>\n",
       "      <td>529</td>\n",
       "      <td>2020-04-01 00:02:28.9430</td>\n",
       "      <td>2020-04-01 00:11:18.3410</td>\n",
       "      <td>Central Park West &amp; W 68 St</td>\n",
       "      <td>Columbus Ave &amp; W 95 St</td>\n",
       "    </tr>\n",
       "    <tr>\n",
       "      <th>2</th>\n",
       "      <td>1488</td>\n",
       "      <td>2020-04-01 00:02:56.0900</td>\n",
       "      <td>2020-04-01 00:27:44.2530</td>\n",
       "      <td>Columbus Ave &amp; W 72 St</td>\n",
       "      <td>31 Ave &amp; Crescent St</td>\n",
       "    </tr>\n",
       "    <tr>\n",
       "      <th>3</th>\n",
       "      <td>341</td>\n",
       "      <td>2020-04-01 00:03:25.1410</td>\n",
       "      <td>2020-04-01 00:09:06.3190</td>\n",
       "      <td>Halsey St &amp; Broadway</td>\n",
       "      <td>Van Buren St &amp; Broadway</td>\n",
       "    </tr>\n",
       "    <tr>\n",
       "      <th>4</th>\n",
       "      <td>2206</td>\n",
       "      <td>2020-04-01 00:05:35.2790</td>\n",
       "      <td>2020-04-01 00:42:21.9080</td>\n",
       "      <td>Grove St &amp; Broadway</td>\n",
       "      <td>Lewis Ave &amp; Kosciuszko St</td>\n",
       "    </tr>\n",
       "  </tbody>\n",
       "</table>\n",
       "</div>"
      ],
      "text/plain": [
       "   tripduration                 starttime                  stoptime  \\\n",
       "0           534  2020-04-01 00:00:15.2800  2020-04-01 00:09:09.8730   \n",
       "1           529  2020-04-01 00:02:28.9430  2020-04-01 00:11:18.3410   \n",
       "2          1488  2020-04-01 00:02:56.0900  2020-04-01 00:27:44.2530   \n",
       "3           341  2020-04-01 00:03:25.1410  2020-04-01 00:09:06.3190   \n",
       "4          2206  2020-04-01 00:05:35.2790  2020-04-01 00:42:21.9080   \n",
       "\n",
       "            start station name           end station name  \n",
       "0            E 2 St & Avenue A            E 23 St & 1 Ave  \n",
       "1  Central Park West & W 68 St     Columbus Ave & W 95 St  \n",
       "2       Columbus Ave & W 72 St       31 Ave & Crescent St  \n",
       "3         Halsey St & Broadway    Van Buren St & Broadway  \n",
       "4          Grove St & Broadway  Lewis Ave & Kosciuszko St  "
      ]
     },
     "execution_count": 11,
     "metadata": {},
     "output_type": "execute_result"
    }
   ],
   "source": [
    "# second DF for obect items sucha as start and end times\n",
    "# these can be read into tableau easily (i hope)\n",
    "# columns needed: [0,1,2,4,8]\n",
    "series0 = filteredCiti2020Df['tripduration']\n",
    "series1 = filteredCiti2020Df['starttime']\n",
    "series2=filteredCiti2020Df['stoptime']\n",
    "series4=filteredCiti2020Df['start station name']\n",
    "series8=filteredCiti2020Df['end station name']\n",
    "\n",
    "# use pandas concat() to create secondary df\n",
    "stationTime2020Df = pd.concat([series0, series1, series2, series4,series8],\n",
    "    axis = 1)\n",
    "\n",
    "# does the baby have all 10 fingers and toes?\n",
    "stationTime2020Df.head()"
   ]
  },
  {
   "cell_type": "code",
   "execution_count": 12,
   "metadata": {},
   "outputs": [
    {
     "data": {
      "text/html": [
       "<div>\n",
       "<style scoped>\n",
       "    .dataframe tbody tr th:only-of-type {\n",
       "        vertical-align: middle;\n",
       "    }\n",
       "\n",
       "    .dataframe tbody tr th {\n",
       "        vertical-align: top;\n",
       "    }\n",
       "\n",
       "    .dataframe thead th {\n",
       "        text-align: right;\n",
       "    }\n",
       "</style>\n",
       "<table border=\"1\" class=\"dataframe\">\n",
       "  <thead>\n",
       "    <tr style=\"text-align: right;\">\n",
       "      <th></th>\n",
       "      <th>tripduration</th>\n",
       "      <th>usertype</th>\n",
       "      <th>birth year</th>\n",
       "      <th>gender</th>\n",
       "    </tr>\n",
       "  </thead>\n",
       "  <tbody>\n",
       "    <tr>\n",
       "      <th>0</th>\n",
       "      <td>534</td>\n",
       "      <td>Subscriber</td>\n",
       "      <td>1990</td>\n",
       "      <td>2</td>\n",
       "    </tr>\n",
       "    <tr>\n",
       "      <th>1</th>\n",
       "      <td>529</td>\n",
       "      <td>Subscriber</td>\n",
       "      <td>1974</td>\n",
       "      <td>1</td>\n",
       "    </tr>\n",
       "    <tr>\n",
       "      <th>2</th>\n",
       "      <td>1488</td>\n",
       "      <td>Subscriber</td>\n",
       "      <td>1982</td>\n",
       "      <td>1</td>\n",
       "    </tr>\n",
       "    <tr>\n",
       "      <th>3</th>\n",
       "      <td>341</td>\n",
       "      <td>Subscriber</td>\n",
       "      <td>1996</td>\n",
       "      <td>1</td>\n",
       "    </tr>\n",
       "    <tr>\n",
       "      <th>4</th>\n",
       "      <td>2206</td>\n",
       "      <td>Subscriber</td>\n",
       "      <td>1977</td>\n",
       "      <td>1</td>\n",
       "    </tr>\n",
       "  </tbody>\n",
       "</table>\n",
       "</div>"
      ],
      "text/plain": [
       "   tripduration    usertype  birth year  gender\n",
       "0           534  Subscriber        1990       2\n",
       "1           529  Subscriber        1974       1\n",
       "2          1488  Subscriber        1982       1\n",
       "3           341  Subscriber        1996       1\n",
       "4          2206  Subscriber        1977       1"
      ]
     },
     "execution_count": 12,
     "metadata": {},
     "output_type": "execute_result"
    }
   ],
   "source": [
    "# third DF [0,12,13,14]\n",
    "# maybe can be used for demographic analysis\n",
    "series0 = filteredCiti2020Df['tripduration']\n",
    "series12 = filteredCiti2020Df['usertype']\n",
    "series13=filteredCiti2020Df['birth year']\n",
    "series14=filteredCiti2020Df['gender']\n",
    "\n",
    "# use pandas concat() to create secondary df\n",
    "demographics2020Df = pd.concat([series0, series12, series13, series14],\n",
    "    axis = 1)\n",
    "\n",
    "# does the baby have all 10 fingers and toes?\n",
    "demographics2020Df.head()"
   ]
  },
  {
   "attachments": {},
   "cell_type": "markdown",
   "metadata": {},
   "source": [
    "## Combine Data\n",
    "Using Pandas' append function, create a new dataframe to be exported as a CSV file"
   ]
  },
  {
   "attachments": {},
   "cell_type": "markdown",
   "metadata": {},
   "source": [
    "### Coordinate dataframes"
   ]
  },
  {
   "cell_type": "code",
   "execution_count": null,
   "metadata": {},
   "outputs": [],
   "source": []
  },
  {
   "attachments": {},
   "cell_type": "markdown",
   "metadata": {},
   "source": [
    "### Time dataframes"
   ]
  },
  {
   "cell_type": "code",
   "execution_count": null,
   "metadata": {},
   "outputs": [],
   "source": []
  },
  {
   "attachments": {},
   "cell_type": "markdown",
   "metadata": {},
   "source": [
    "### Demographic dataframes"
   ]
  },
  {
   "cell_type": "code",
   "execution_count": null,
   "metadata": {},
   "outputs": [],
   "source": []
  },
  {
   "attachments": {},
   "cell_type": "markdown",
   "metadata": {},
   "source": [
    "### Export to CSV"
   ]
  },
  {
   "cell_type": "code",
   "execution_count": null,
   "metadata": {},
   "outputs": [],
   "source": []
  }
 ],
 "metadata": {
  "kernelspec": {
   "display_name": "base",
   "language": "python",
   "name": "python3"
  },
  "language_info": {
   "codemirror_mode": {
    "name": "ipython",
    "version": 3
   },
   "file_extension": ".py",
   "mimetype": "text/x-python",
   "name": "python",
   "nbconvert_exporter": "python",
   "pygments_lexer": "ipython3",
   "version": "3.9.13"
  },
  "orig_nbformat": 4
 },
 "nbformat": 4,
 "nbformat_minor": 2
}
